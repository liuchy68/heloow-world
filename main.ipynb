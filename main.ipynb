{
 "cells": [
  {
   "cell_type": "code",
   "execution_count": 1,
   "metadata": {},
   "outputs": [
    {
     "name": "stdout",
     "output_type": "stream",
     "text": [
      "Running with a CPU.  If this is not desired, then the modify network3.py to set\n",
      "the GPU flag to True.\n"
     ]
    }
   ],
   "source": [
    "'''\n",
    "主要的工作都在network3中完成，可查看network3文档，\n",
    "这里只是调用模型去做实验\n",
    "'''\n",
    "import network3\n",
    "from network3 import Network, ConvPoolLayer, FullyConnectedLayer, SoftmaxLayer \n",
    "# 加载数据\n",
    "training_data, validation_data, test_data = network3.load_data_shared()\n",
    "\n",
    "#初始化部分超参数\n",
    "mini_batch_size = 10 \n",
    "epochs = 10\n",
    "eta = 0.1"
   ]
  },
  {
   "cell_type": "code",
   "execution_count": 2,
   "metadata": {},
   "outputs": [
    {
     "name": "stderr",
     "output_type": "stream",
     "text": [
      "WARNING (theano.gof.compilelock): Overriding existing lock by dead process '12624' (I am process '396')\n"
     ]
    },
    {
     "name": "stdout",
     "output_type": "stream",
     "text": [
      "Training mini-batch number 0\n",
      "Training mini-batch number 1000\n",
      "Training mini-batch number 2000\n",
      "Training mini-batch number 3000\n",
      "Training mini-batch number 4000\n",
      "Epoch 0: validation accuracy 92.64%\n",
      "This is the best validation accuracy to date.\n",
      "The corresponding test accuracy is 91.94%\n",
      "Training mini-batch number 5000\n",
      "Training mini-batch number 6000\n",
      "Training mini-batch number 7000\n",
      "Training mini-batch number 8000\n",
      "Training mini-batch number 9000\n",
      "Epoch 1: validation accuracy 94.64%\n",
      "This is the best validation accuracy to date.\n",
      "The corresponding test accuracy is 93.96%\n",
      "Training mini-batch number 10000\n",
      "Training mini-batch number 11000\n",
      "Training mini-batch number 12000\n",
      "Training mini-batch number 13000\n",
      "Training mini-batch number 14000\n",
      "Epoch 2: validation accuracy 95.78%\n",
      "This is the best validation accuracy to date.\n",
      "The corresponding test accuracy is 95.13%\n",
      "Training mini-batch number 15000\n",
      "Training mini-batch number 16000\n",
      "Training mini-batch number 17000\n",
      "Training mini-batch number 18000\n",
      "Training mini-batch number 19000\n",
      "Epoch 3: validation accuracy 96.27%\n",
      "This is the best validation accuracy to date.\n",
      "The corresponding test accuracy is 95.79%\n",
      "Training mini-batch number 20000\n",
      "Training mini-batch number 21000\n",
      "Training mini-batch number 22000\n",
      "Training mini-batch number 23000\n",
      "Training mini-batch number 24000\n",
      "Epoch 4: validation accuracy 96.66%\n",
      "This is the best validation accuracy to date.\n",
      "The corresponding test accuracy is 96.16%\n",
      "Training mini-batch number 25000\n",
      "Training mini-batch number 26000\n",
      "Training mini-batch number 27000\n",
      "Training mini-batch number 28000\n",
      "Training mini-batch number 29000\n",
      "Epoch 5: validation accuracy 96.97%\n",
      "This is the best validation accuracy to date.\n",
      "The corresponding test accuracy is 96.48%\n",
      "Training mini-batch number 30000\n",
      "Training mini-batch number 31000\n",
      "Training mini-batch number 32000\n",
      "Training mini-batch number 33000\n",
      "Training mini-batch number 34000\n",
      "Epoch 6: validation accuracy 97.21%\n",
      "This is the best validation accuracy to date.\n",
      "The corresponding test accuracy is 96.74%\n",
      "Training mini-batch number 35000\n",
      "Training mini-batch number 36000\n",
      "Training mini-batch number 37000\n",
      "Training mini-batch number 38000\n",
      "Training mini-batch number 39000\n",
      "Epoch 7: validation accuracy 97.36%\n",
      "This is the best validation accuracy to date.\n",
      "The corresponding test accuracy is 96.93%\n",
      "Training mini-batch number 40000\n",
      "Training mini-batch number 41000\n",
      "Training mini-batch number 42000\n",
      "Training mini-batch number 43000\n",
      "Training mini-batch number 44000\n",
      "Epoch 8: validation accuracy 97.37%\n",
      "This is the best validation accuracy to date.\n",
      "The corresponding test accuracy is 97.06%\n",
      "Training mini-batch number 45000\n",
      "Training mini-batch number 46000\n",
      "Training mini-batch number 47000\n",
      "Training mini-batch number 48000\n",
      "Training mini-batch number 49000\n",
      "Epoch 9: validation accuracy 97.46%\n",
      "This is the best validation accuracy to date.\n",
      "The corresponding test accuracy is 97.12%\n",
      "Finished training network.\n",
      "***********************************************************************\n",
      "Best validation accuracy of 97.46% obtained at iteration 49999\n",
      "Corresponding test accuracy of 97.12%\n"
     ]
    }
   ],
   "source": [
    "'''实验1\n",
    "网络配置:\n",
    "全连接层：   n_in=784, n_out=100\n",
    "softmax层：  n_in=100, n_out=10\n",
    "'''\n",
    "net = Network([\n",
    "    FullyConnectedLayer(n_in=784, n_out=100),\n",
    "    SoftmaxLayer(n_in=100, n_out=10)], mini_batch_size)\n",
    "net.SGD(training_data, epochs, mini_batch_size, eta, validation_data, test_data)"
   ]
  },
  {
   "cell_type": "markdown",
   "metadata": {
    "collapsed": true
   },
   "source": [
    "观察结果可以发现，简单的两层神经网络经过10个epoch的训练后，在iteration 49999 取得最好的交叉验证准确率（97.46%），对应的测试准确率为97.12%"
   ]
  },
  {
   "cell_type": "code",
   "execution_count": null,
   "metadata": {
    "collapsed": true
   },
   "outputs": [],
   "source": [
    "'''实验2\n",
    "网络配置:\n",
    "卷积层：   \n",
    "            图像大小：28*28\n",
    "            卷积核：20个 5*5\n",
    "            池化核大小：2*2            \n",
    "全连接层：   n_in=20*12*12, n_out=100\n",
    "softmax层：  n_in=100, n_out=10\n",
    "'''\n",
    "net = Network([\n",
    "    ConvPoolLayer(image_shape=(mini_batch_size, 1, 28, 28),\n",
    "                  filter_shape=(20, 1, 5, 5),\n",
    "                  poolsize=(2, 2)),\n",
    "    FullyConnectedLayer(n_in=20*12*12, n_out=100),\n",
    "    SoftmaxLayer(n_in=100, n_out=10)], mini_batch_size)\n",
    "net.SGD(training_data, epochs, mini_batch_size, eta, validation_data, test_data)"
   ]
  },
  {
   "cell_type": "code",
   "execution_count": null,
   "metadata": {
    "collapsed": true
   },
   "outputs": [],
   "source": [
    "'''\n",
    "实验3\n",
    "网络配置:\n",
    "卷积层1：   \n",
    "            图像大小：   1个  28*28\n",
    "            卷积核：     20个 5*5\n",
    "            池化核大小：      2*2   \n",
    "卷积层2：   \n",
    "            图像大小：   20个  12*12\n",
    "            卷积核：     40个 5*5\n",
    "            池化核大小：      2*2   \n",
    "全连接层：   n_in=40*4*4, n_out=100\n",
    "softmax层：  n_in=100, n_out=10\n",
    "\n",
    "'''\n",
    "net = Network([\n",
    "    ConvPoolLayer(image_shape=(mini_batch_size, 1, 28, 28),\n",
    "                  filter_shape=(20, 1, 5, 5),\n",
    "                  poolsize=(2, 2)),\n",
    "    ConvPoolLayer(image_shape=(mini_batch_size, 20, 12, 12),\n",
    "                  filter_shape=(40, 20, 5, 5),\n",
    "                  poolsize=(2, 2)),\n",
    "    FullyConnectedLayer(n_in=40*4*4, n_out=100),\n",
    "    SoftmaxLayer(n_in=100, n_out=10)], mini_batch_size)\n",
    "net.SGD(training_data, epochs, mini_batch_size, eta, validation_data, test_data)"
   ]
  },
  {
   "cell_type": "code",
   "execution_count": null,
   "metadata": {
    "collapsed": true
   },
   "outputs": [],
   "source": [
    "'''\n",
    "实验4，运用RELU和正侧化技术进一步提升性能\n",
    "'''\n",
    "from network3 import ReLU\n",
    "net = Network([\n",
    "    ConvPoolLayer(image_shape=(mini_batch_size, 1, 28, 28),\n",
    "                  filter_shape=(20, 1, 5, 5),\n",
    "                  poolsize=(2, 2),\n",
    "                  activation_fn=ReLU),\n",
    "    ConvPoolLayer(image_shape=(mini_batch_size, 20, 12, 12),\n",
    "                  filter_shape=(40, 20, 5, 5),\n",
    "                  poolsize=(2, 2),\n",
    "                  activation_fn=ReLU),\n",
    "    FullyConnectedLayer(n_in=40*4*4, n_out=100, activation_fn=ReLU),\n",
    "    SoftmaxLayer(n_in=100, n_out=10)], mini_batch_size)\n",
    "net.SGD(training_data, 10, mini_batch_size, 0.03, validation_data, test_data, lmbda=0.1)"
   ]
  }
 ],
 "metadata": {
  "kernelspec": {
   "display_name": "Python 3",
   "language": "python",
   "name": "python3"
  },
  "language_info": {
   "codemirror_mode": {
    "name": "ipython",
    "version": 3
   },
   "file_extension": ".py",
   "mimetype": "text/x-python",
   "name": "python",
   "nbconvert_exporter": "python",
   "pygments_lexer": "ipython3",
   "version": "3.5.4"
  }
 },
 "nbformat": 4,
 "nbformat_minor": 2
}
